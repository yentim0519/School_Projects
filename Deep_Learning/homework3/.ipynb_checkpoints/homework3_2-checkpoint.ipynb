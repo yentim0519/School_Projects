{
 "cells": [
  {
   "cell_type": "markdown",
   "metadata": {},
   "source": [
    "# 將英文圖片的文字抓下來"
   ]
  },
  {
   "cell_type": "code",
   "execution_count": 2,
   "metadata": {},
   "outputs": [
    {
     "name": "stdout",
     "output_type": "stream",
     "text": [
      "BREAKING THE STATUE\n",
      "\n",
      "i have always known\n",
      "\n",
      "i just didn't understand\n",
      "the inner conflictions\n",
      "arresting our hands\n",
      "gravitating close enough\n",
      "expansive distamce between\n",
      "i couldn't give you more\n",
      "but i meant everything\n",
      "when the day comes\n",
      "\n",
      "you find your heart\n",
      "\n",
      "wants something more\n",
      "\n",
      "than a viece and a part\n",
      "your life will change\n",
      "like astatue set free\n",
      "\n",
      "to walk among us\n",
      "\n",
      "to created estiny\n",
      "\n",
      "we didn't break any rules\n",
      "we didn't make mistakes\n",
      "making beauty in loving\n",
      "making lovine for days\n",
      "\n",
      "SHILOW\n"
     ]
    }
   ],
   "source": [
    "from PIL import Image\n",
    "import pytesseract\n",
    "  \n",
    "img = Image.open('text.jpeg')\n",
    "text = pytesseract.image_to_string(img, lang='eng')\n",
    "print(text)"
   ]
  },
  {
   "cell_type": "code",
   "execution_count": null,
   "metadata": {},
   "outputs": [],
   "source": []
  }
 ],
 "metadata": {
  "kernelspec": {
   "display_name": "Python 3",
   "language": "python",
   "name": "python3"
  },
  "language_info": {
   "codemirror_mode": {
    "name": "ipython",
    "version": 3
   },
   "file_extension": ".py",
   "mimetype": "text/x-python",
   "name": "python",
   "nbconvert_exporter": "python",
   "pygments_lexer": "ipython3",
   "version": "3.7.4"
  }
 },
 "nbformat": 4,
 "nbformat_minor": 2
}
