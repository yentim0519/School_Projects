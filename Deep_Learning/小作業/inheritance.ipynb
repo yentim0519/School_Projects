{
 "cells": [
  {
   "cell_type": "markdown",
   "metadata": {},
   "source": [
    "# 練習繼承，定義一個Cylinder且其為Circle的Subclass"
   ]
  },
  {
   "cell_type": "markdown",
   "metadata": {},
   "source": [
    "### Circle"
   ]
  },
  {
   "cell_type": "code",
   "execution_count": 53,
   "metadata": {},
   "outputs": [],
   "source": [
    "from math import pi\n",
    " \n",
    "class Circle:\n",
    "    \"\"\"A Circle instance models a circle with a radius\"\"\"\n",
    " \n",
    "    def __init__(self, radius = 1.0):\n",
    "        \"\"\"Initializer with default radius of 1.0\"\"\"\n",
    "        self.radius = radius   # Call decorated setter\n",
    " \n",
    "    @property\n",
    "    def radius(self):\n",
    "        \"\"\"Radius of this circle\"\"\"  # doc-string here\n",
    "        # Define getter here\n",
    "        return self._radius  # Read the hidden instance variable _radius\n",
    "    # Equivalent to:\n",
    "    # def get_radius(self):\n",
    "    #    return self._radius\n",
    "    # radius = property(get_radius)   # Define a property with getter\n",
    " \n",
    "    @radius.setter\n",
    "    def radius(self, radius):\n",
    "        \"\"\"Setter for instance variable radius with input validation\"\"\"\n",
    "        if radius < 0:\n",
    "           raise ValueError('Radius shall be non-negative')\n",
    "        self._radius = radius  # Set a hidden instance variable _radius\n",
    " \n",
    "    @radius.deleter\n",
    "    def radius(self):\n",
    "        \"\"\"Deleter for instance variable radius\"\"\"\n",
    "        del self._radius  # Delete the hidden instance variable _radius\n",
    " \n",
    "    def get_area(self):\n",
    "        \"\"\"Return the area of this Circle instance\"\"\"\n",
    "        return self.radius * self.radius * pi  # Call decorated getter\n",
    " \n",
    "    def __repr__(self):\n",
    "        \"\"\"Self description for this Circle instance, used by print(), str() and repr()\"\"\"\n",
    "        return 'Circle(radius={})'.format(self.radius)  # Call decorated getter"
   ]
  },
  {
   "cell_type": "markdown",
   "metadata": {},
   "source": [
    "### Make the Cylinder class a subclass of Circle class"
   ]
  },
  {
   "cell_type": "markdown",
   "metadata": {},
   "source": [
    "改掉：\n",
    "* def __init__\n",
    "* def __str__\n",
    "* def __repr__\n",
    "\n",
    "新增\n",
    "* def get_volume"
   ]
  },
  {
   "cell_type": "code",
   "execution_count": 57,
   "metadata": {},
   "outputs": [],
   "source": [
    "class Cylinder(Circle):\n",
    "    \"\"\"The Cylinder class is a subclass of Circle\"\"\"\n",
    " \n",
    "    def __init__(self, radius = 1.0, height = 1.0):\n",
    "        \"\"\"Initializer\"\"\"\n",
    "        super().__init__(radius)  # Invoke superclass' initializer (Python 3)\n",
    "        self.height = height\n",
    " \n",
    "    def __str__(self):\n",
    "        \"\"\"Self Description for print() and str()\"\"\"\n",
    "        # If __str__ is missing in the subclass, print() will invoke the superclass version!\n",
    "        return 'Cylinder(radius={},height={})'.format(self.radius, self.height)\n",
    "\n",
    "    def __repr__(self):   \n",
    "        \"\"\"Formal Description for repr()\"\"\"\n",
    "        # If __repr__ is missing in the subclass, repr() will invoke the superclass version!\n",
    "        return self.__str__()   # re-direct to __str__() (not recommended)\n",
    " \n",
    "    def get_volume(self):\n",
    "        \"\"\"Return the volume of the cylinder\"\"\"\n",
    "        return self.get_area() * self.height  # Inherited get_area()"
   ]
  },
  {
   "cell_type": "code",
   "execution_count": 58,
   "metadata": {},
   "outputs": [],
   "source": [
    "cy = Cylinder(4, 5)"
   ]
  },
  {
   "cell_type": "code",
   "execution_count": 59,
   "metadata": {},
   "outputs": [
    {
     "data": {
      "text/plain": [
       "Cylinder(radius=4,height=5)"
      ]
     },
     "execution_count": 59,
     "metadata": {},
     "output_type": "execute_result"
    }
   ],
   "source": [
    "cy"
   ]
  },
  {
   "cell_type": "code",
   "execution_count": 60,
   "metadata": {},
   "outputs": [
    {
     "data": {
      "text/plain": [
       "251.32741228718345"
      ]
     },
     "execution_count": 60,
     "metadata": {},
     "output_type": "execute_result"
    }
   ],
   "source": [
    "cy.get_volume()"
   ]
  },
  {
   "cell_type": "code",
   "execution_count": 61,
   "metadata": {},
   "outputs": [
    {
     "data": {
      "text/plain": [
       "50.26548245743669"
      ]
     },
     "execution_count": 61,
     "metadata": {},
     "output_type": "execute_result"
    }
   ],
   "source": [
    "# 這裡的area還是circle的\n",
    "cy.get_area()"
   ]
  },
  {
   "cell_type": "markdown",
   "metadata": {},
   "source": [
    "### 2.2  Example 7: Method Overriding"
   ]
  },
  {
   "cell_type": "code",
   "execution_count": 62,
   "metadata": {},
   "outputs": [],
   "source": [
    "class Cylinder(Circle):\n",
    "    \"\"\"The Cylinder class is a subclass of Circle\"\"\"\n",
    " \n",
    "    def __init__(self, radius = 1.0, height = 1.0):\n",
    "        \"\"\"Initializer\"\"\"\n",
    "        super().__init__(radius)  # Invoke superclass' initializer\n",
    "        self.height = height\n",
    " \n",
    "    def __str__(self):\n",
    "        \"\"\"Self Description for print() and str()\"\"\"\n",
    "        return 'Cylinder({}, height={})'.format(super().__repr__(), self.height)\n",
    "                # Use superclass' __repr__()\n",
    " \n",
    "    def __repr__(self):\n",
    "        \"\"\"Formal Description for repr()\"\"\"\n",
    "        return self.__str__()   # re-direct to __str__() (not recommended)\n",
    " \n",
    "    # 覆寫circle的get_area\n",
    "    def get_area(self):\n",
    "        \"\"\"Return the surface area the cylinder\"\"\"\n",
    "        return 2.0 * pi * self.radius * self.height\n",
    " \n",
    "    def get_volume(self):\n",
    "        \"\"\"Return the volume of the cylinder\"\"\"\n",
    "        return super().get_area() * self.height  # Use superclass' get_area()"
   ]
  },
  {
   "cell_type": "code",
   "execution_count": 63,
   "metadata": {},
   "outputs": [],
   "source": [
    "cy = Cylinder(4, 5)"
   ]
  },
  {
   "cell_type": "code",
   "execution_count": 64,
   "metadata": {},
   "outputs": [
    {
     "name": "stdout",
     "output_type": "stream",
     "text": [
      "Cylinder(Circle(radius=4), height=5)\n"
     ]
    }
   ],
   "source": [
    "print(cy)"
   ]
  },
  {
   "cell_type": "code",
   "execution_count": 65,
   "metadata": {},
   "outputs": [
    {
     "data": {
      "text/plain": [
       "125.66370614359172"
      ]
     },
     "execution_count": 65,
     "metadata": {},
     "output_type": "execute_result"
    }
   ],
   "source": [
    "# 改成了cylinder的surface area\n",
    "cy.get_area()"
   ]
  },
  {
   "cell_type": "markdown",
   "metadata": {},
   "source": [
    "### Example 8: Shape and its subclasses"
   ]
  },
  {
   "cell_type": "markdown",
   "metadata": {},
   "source": [
    "了解多重繼承的概念"
   ]
  },
  {
   "cell_type": "code",
   "execution_count": 66,
   "metadata": {},
   "outputs": [],
   "source": [
    "class Shape:\n",
    "    \"\"\"The superclass Shape with a color\"\"\"\n",
    "    def __init__(self, color = 'red'):\n",
    "        \"\"\"Initializer\"\"\"\n",
    "        self.color = color\n",
    " \n",
    "    def __str__(self):\n",
    "        \"\"\"Self description for print() and str()\"\"\"\n",
    "        return 'Shape(color={})'.format(self.color)\n",
    " \n",
    "    def __repr__(self):\n",
    "        \"\"\"Representative description for repr()\"\"\"\n",
    "        return self.__str__()  # re-direct to __str__() (not recommended)\n",
    " \n",
    "class Circle(Shape):\n",
    "    \"\"\"The Circle class: a subclass of Shape with a radius\"\"\"\n",
    "    def __init__(self, radius = 1.0, color = 'red'):\n",
    "        \"\"\"Initializer\"\"\"\n",
    "        super().__init__(color)  # Call superclass' initializer\n",
    "        self.radius = radius\n",
    " \n",
    "    def __str__(self):\n",
    "        \"\"\"Self description for print() and str()\"\"\"\n",
    "        return 'Circle({}, radius={})'.format(super().__str__(), self.radius)\n",
    " \n",
    "    def __repr__(self):\n",
    "        \"\"\"Representative description for repr()\"\"\"\n",
    "        return self.__str__()  # re-direct to __str__() (not recommended)\n",
    " \n",
    "    def get_area(self):\n",
    "        return self.radius * self.radius * pi\n",
    " \n",
    "class Rectangle(Shape):\n",
    "    \"\"\"The Rectangle class: a subclass of Shape wit a length and width\"\"\"\n",
    "    def __init__(self, length = 1.0, width = 1.0, color = 'red'):\n",
    "        \"\"\"Initializer\"\"\"\n",
    "        super().__init__(color)\n",
    "        self.length = length\n",
    "        self.width = width\n",
    " \n",
    "    def __str__(self):\n",
    "        \"\"\"Self description for print() and str()\"\"\"\n",
    "        return 'Rectangle({}, length={}, width={})'.format(super().__str__(), self.length, self.width)\n",
    " \n",
    "    def __repr__(self):\n",
    "        \"\"\"Representative description for repr()\"\"\"\n",
    "        return self.__str__()  # re-direct to __str__() (not recommended)\n",
    " \n",
    "    def get_area(self):\n",
    "        return self.length * self.width\n",
    " \n",
    "class Square(Rectangle):\n",
    "    \"\"\"The Square class: a subclass of Rectangle having the same length and width\"\"\"\n",
    "    def __init__(self, side = 1.0, color = 'red'):\n",
    "        \"\"\"Initializer\"\"\"\n",
    "        super().__init__(side, side, color)\n",
    " \n",
    "    def __str__(self):\n",
    "        \"\"\"Self description for print() and str()\"\"\"\n",
    "        return 'Square({})'.format(super().__str__())"
   ]
  },
  {
   "cell_type": "markdown",
   "metadata": {},
   "source": [
    "#### Shape"
   ]
  },
  {
   "cell_type": "code",
   "execution_count": 69,
   "metadata": {},
   "outputs": [
    {
     "data": {
      "text/plain": [
       "Shape(color=red)"
      ]
     },
     "execution_count": 69,
     "metadata": {},
     "output_type": "execute_result"
    }
   ],
   "source": [
    "s = Shape()\n",
    "s"
   ]
  },
  {
   "cell_type": "markdown",
   "metadata": {},
   "source": [
    "#### Circle"
   ]
  },
  {
   "cell_type": "code",
   "execution_count": 72,
   "metadata": {},
   "outputs": [
    {
     "data": {
      "text/plain": [
       "Circle(Shape(color=red), radius=5)"
      ]
     },
     "execution_count": 72,
     "metadata": {},
     "output_type": "execute_result"
    }
   ],
   "source": [
    "c = Circle(5)\n",
    "c"
   ]
  },
  {
   "cell_type": "code",
   "execution_count": 73,
   "metadata": {},
   "outputs": [
    {
     "data": {
      "text/plain": [
       "78.53981633974483"
      ]
     },
     "execution_count": 73,
     "metadata": {},
     "output_type": "execute_result"
    }
   ],
   "source": [
    "c.get_area()"
   ]
  },
  {
   "cell_type": "markdown",
   "metadata": {},
   "source": [
    "#### Rectangle"
   ]
  },
  {
   "cell_type": "code",
   "execution_count": 75,
   "metadata": {},
   "outputs": [
    {
     "data": {
      "text/plain": [
       "Rectangle(Shape(color=red), length=3, width=4)"
      ]
     },
     "execution_count": 75,
     "metadata": {},
     "output_type": "execute_result"
    }
   ],
   "source": [
    "r = Rectangle(3, 4)\n",
    "r"
   ]
  },
  {
   "cell_type": "code",
   "execution_count": 76,
   "metadata": {},
   "outputs": [
    {
     "data": {
      "text/plain": [
       "12"
      ]
     },
     "execution_count": 76,
     "metadata": {},
     "output_type": "execute_result"
    }
   ],
   "source": [
    "r.get_area()"
   ]
  },
  {
   "cell_type": "markdown",
   "metadata": {},
   "source": [
    "#### Square"
   ]
  },
  {
   "cell_type": "code",
   "execution_count": 79,
   "metadata": {},
   "outputs": [
    {
     "data": {
      "text/plain": [
       "Square(Rectangle(Shape(color=red), length=4, width=4))"
      ]
     },
     "execution_count": 79,
     "metadata": {},
     "output_type": "execute_result"
    }
   ],
   "source": [
    "sq = Square(4)\n",
    "sq"
   ]
  },
  {
   "cell_type": "code",
   "execution_count": 80,
   "metadata": {},
   "outputs": [
    {
     "data": {
      "text/plain": [
       "16"
      ]
     },
     "execution_count": 80,
     "metadata": {},
     "output_type": "execute_result"
    }
   ],
   "source": [
    "sq.get_area()"
   ]
  }
 ],
 "metadata": {
  "kernelspec": {
   "display_name": "Python 3",
   "language": "python",
   "name": "python3"
  },
  "language_info": {
   "codemirror_mode": {
    "name": "ipython",
    "version": 3
   },
   "file_extension": ".py",
   "mimetype": "text/x-python",
   "name": "python",
   "nbconvert_exporter": "python",
   "pygments_lexer": "ipython3",
   "version": "3.7.4"
  }
 },
 "nbformat": 4,
 "nbformat_minor": 2
}
