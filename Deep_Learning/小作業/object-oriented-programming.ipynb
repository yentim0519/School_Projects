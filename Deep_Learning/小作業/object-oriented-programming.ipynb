{
 "cells": [
  {
   "cell_type": "markdown",
   "metadata": {},
   "source": [
    "# 練習物件導向的概念，定義一個Rectangle的attributes和methods"
   ]
  },
  {
   "cell_type": "markdown",
   "metadata": {},
   "source": [
    "### Rectangle"
   ]
  },
  {
   "cell_type": "code",
   "execution_count": 268,
   "metadata": {},
   "outputs": [],
   "source": [
    "class Point(object):\n",
    "    \"\"\"Represents a point in 2-d dpace.\"\"\"\n",
    "\n",
    "class Rectangle(object):\n",
    "    def __init__(self, width = 0, height = 0, x = 0, y = 0):\n",
    "        self.width = width\n",
    "        self.height = height\n",
    "        self.center = Point()\n",
    "        self.center.x = x\n",
    "        self.center.y = y\n",
    "        \n",
    "    def __str__(self):\n",
    "        return 'width = %.2f, height = %.2f, center = (%.2f, %.2f)' % (self.width, self.height, self.center.x, self.center.y)\n",
    "    \n",
    "    def get_center(self):\n",
    "        print('(%.2f, %.2f)' % (self.center.x, self.center.y))\n",
    "        \n",
    "    def get_area(self):\n",
    "        print('%.2f' % (self.width * self.height))\n",
    "        \n",
    "    def get_perimeter(self):\n",
    "        print('%.2f' % (2*(self.width + self.height)))\n",
    "        \n",
    "    def line_color(self, color):    # function 跟 attribute不能設成同名會認錯\n",
    "        self.line_color1 = color\n",
    "    \n",
    "    def fill_color(self, color):    \n",
    "        self.color = color\n",
    "        \n",
    "    def line_type(self, type1):    \n",
    "        self.line_type1 = type1\n",
    "        \n",
    "    def line_width(self, width):    \n",
    "        self.line_width1 = width\n",
    "        \n",
    "    def flip_horizontal(self):\n",
    "        self.center.x -= self.width\n",
    "    \n",
    "    def flip_vertical(self):\n",
    "        self.center.y -= self.height\n",
    "    \n",
    "    def mirror_x(self):\n",
    "        self.center.y = -self.center.y\n",
    "        \n",
    "    def mirror_y(self):\n",
    "        self.center.x = -self.center.x\n",
    "        \n",
    "    def rotate1(self):\n",
    "        a = self.width\n",
    "        self.width = self.height\n",
    "        self.height = a\n",
    "        \n",
    "    def rotate2(self):       \n",
    "        self.center.x = self.center.x + self.height/2 - self.width/2   # 用旋轉矩陣求出來的公式\n",
    "        self.center.y = self.center.y - self.width/2 - self.height/2\n",
    "        \n",
    "        a = self.width\n",
    "        self.width = self.height\n",
    "        self.height = a\n",
    "    \n",
    "    def copy(self, x, y):       # parameter 都是 local variable\n",
    "                                                    # 函式中的程式碼可以讀取全域變數的值，但是不能夠改變它的內容\n",
    "        rec_name = Rectangle()            # 函式中建立的區域變數，只能夠在該函式中使用(ex, rec_name)\n",
    "        rec_name.width = self.width      # 盡量避免在函式中直接使用全域變數。比較好的做法是利用參數，把需要的資料傳給函式處理。\n",
    "        rec_name.height = self.height    # 因為如果有許多函式都直接使用全域變數，一旦全域變數中的值發生錯誤，很難找出問題究竟在哪裡！\n",
    "        rec_name.center = Point()\n",
    "        rec_name.center.x = x\n",
    "        rec_name.center.y = y\n",
    "        return rec_name\n",
    "    \n",
    "    def move1(self, x, y):\n",
    "        self.center.x = x\n",
    "        self.center.y = y\n",
    "        \n",
    "    def move2(self, dx, dy):\n",
    "        self.center.x += dx \n",
    "        self.center.y += dy\n",
    "        \n",
    "    def resize(self, w, h):\n",
    "        self.width *= w # 還沒解決小數點亂掉\n",
    "        self.height *= h\n",
    "        \n",
    "    def extent(self):\n",
    "        x = self.center.x\n",
    "        y = self.center.y\n",
    "        w = self.width\n",
    "        h = self. height\n",
    "        print('xmin = %.2f,  ymin = %.2f, xmax = %.2f, ymax = %.2f' % (x - (w/2), y - (h/2), x + (w/2), y + (h/2)))"
   ]
  },
  {
   "cell_type": "code",
   "execution_count": 270,
   "metadata": {},
   "outputs": [
    {
     "name": "stdout",
     "output_type": "stream",
     "text": [
      "3\n",
      "4\n",
      "(5.00, 5.00)\n"
     ]
    }
   ],
   "source": [
    "# __init__\n",
    "rec = Rectangle(3, 4, 5, 5)\n",
    "\n",
    "print(rec.width)\n",
    "print(rec.height)\n",
    "rec.get_center()"
   ]
  },
  {
   "cell_type": "code",
   "execution_count": 214,
   "metadata": {},
   "outputs": [
    {
     "name": "stdout",
     "output_type": "stream",
     "text": [
      "width = 3.00, height = 4.00, center = (5.00, 5.00)\n"
     ]
    }
   ],
   "source": [
    "# __str__\n",
    "print(rec)"
   ]
  },
  {
   "cell_type": "code",
   "execution_count": 215,
   "metadata": {},
   "outputs": [
    {
     "name": "stdout",
     "output_type": "stream",
     "text": [
      "(5.00, 5.00)\n"
     ]
    }
   ],
   "source": [
    "# get_center()\n",
    "rec.get_center()"
   ]
  },
  {
   "cell_type": "code",
   "execution_count": 216,
   "metadata": {},
   "outputs": [
    {
     "name": "stdout",
     "output_type": "stream",
     "text": [
      "12.00\n"
     ]
    }
   ],
   "source": [
    "# get_area()\n",
    "rec.get_area()"
   ]
  },
  {
   "cell_type": "code",
   "execution_count": 217,
   "metadata": {},
   "outputs": [
    {
     "name": "stdout",
     "output_type": "stream",
     "text": [
      "14.00\n"
     ]
    }
   ],
   "source": [
    "# get_perimeter()\n",
    "rec.get_perimeter()"
   ]
  },
  {
   "cell_type": "code",
   "execution_count": 218,
   "metadata": {},
   "outputs": [
    {
     "data": {
      "text/plain": [
       "'red'"
      ]
     },
     "execution_count": 218,
     "metadata": {},
     "output_type": "execute_result"
    }
   ],
   "source": [
    "# line_color()\n",
    "rec.line_color('red')\n",
    "rec.line_color1"
   ]
  },
  {
   "cell_type": "code",
   "execution_count": 220,
   "metadata": {},
   "outputs": [
    {
     "data": {
      "text/plain": [
       "'blue'"
      ]
     },
     "execution_count": 220,
     "metadata": {},
     "output_type": "execute_result"
    }
   ],
   "source": [
    "# fill_color()\n",
    "rec.fill_color('blue')\n",
    "rec.color"
   ]
  },
  {
   "cell_type": "code",
   "execution_count": 221,
   "metadata": {},
   "outputs": [
    {
     "data": {
      "text/plain": [
       "'dotted'"
      ]
     },
     "execution_count": 221,
     "metadata": {},
     "output_type": "execute_result"
    }
   ],
   "source": [
    "# line_type()\n",
    "rec.line_type('dotted')\n",
    "rec.line_type1"
   ]
  },
  {
   "cell_type": "code",
   "execution_count": 222,
   "metadata": {},
   "outputs": [
    {
     "data": {
      "text/plain": [
       "2"
      ]
     },
     "execution_count": 222,
     "metadata": {},
     "output_type": "execute_result"
    }
   ],
   "source": [
    "# line_width()\n",
    "rec.line_width(2)\n",
    "rec.line_width1"
   ]
  },
  {
   "cell_type": "code",
   "execution_count": 225,
   "metadata": {},
   "outputs": [
    {
     "name": "stdout",
     "output_type": "stream",
     "text": [
      "3\n",
      "4\n",
      "(5.00, 5.00)\n"
     ]
    }
   ],
   "source": [
    "# 原來的attributes\n",
    "print(rec.width)\n",
    "print(rec.height)\n",
    "rec.get_center()"
   ]
  },
  {
   "cell_type": "code",
   "execution_count": 226,
   "metadata": {},
   "outputs": [
    {
     "name": "stdout",
     "output_type": "stream",
     "text": [
      "3\n",
      "4\n",
      "(2.00, 5.00)\n"
     ]
    }
   ],
   "source": [
    "# flip_horizontal()\n",
    "rec.flip_horizontal()\n",
    "\n",
    "print(rec.width)\n",
    "print(rec.height)\n",
    "rec.get_center()"
   ]
  },
  {
   "cell_type": "code",
   "execution_count": 230,
   "metadata": {},
   "outputs": [
    {
     "name": "stdout",
     "output_type": "stream",
     "text": [
      "3\n",
      "4\n",
      "(5.00, 1.00)\n"
     ]
    }
   ],
   "source": [
    "# flip_vertical()\n",
    "rec.flip_vertical()\n",
    "\n",
    "print(rec.width)\n",
    "print(rec.height)\n",
    "rec.get_center()"
   ]
  },
  {
   "cell_type": "code",
   "execution_count": 232,
   "metadata": {},
   "outputs": [
    {
     "name": "stdout",
     "output_type": "stream",
     "text": [
      "3\n",
      "4\n",
      "(5.00, -5.00)\n"
     ]
    }
   ],
   "source": [
    "# mirror_x()\n",
    "rec.mirror_x()\n",
    "\n",
    "print(rec.width)\n",
    "print(rec.height)\n",
    "rec.get_center()"
   ]
  },
  {
   "cell_type": "code",
   "execution_count": 235,
   "metadata": {},
   "outputs": [
    {
     "name": "stdout",
     "output_type": "stream",
     "text": [
      "3\n",
      "4\n",
      "(-5.00, 5.00)\n"
     ]
    }
   ],
   "source": [
    "# mirror_y()\n",
    "rec.mirror_y()\n",
    "\n",
    "print(rec.width)\n",
    "print(rec.height)\n",
    "rec.get_center()"
   ]
  },
  {
   "cell_type": "code",
   "execution_count": 237,
   "metadata": {},
   "outputs": [
    {
     "name": "stdout",
     "output_type": "stream",
     "text": [
      "4\n",
      "3\n",
      "(5.00, 5.00)\n"
     ]
    }
   ],
   "source": [
    "# rotate1()\n",
    "rec.rotate1()\n",
    "\n",
    "print(rec.width)\n",
    "print(rec.height)\n",
    "rec.get_center()"
   ]
  },
  {
   "cell_type": "code",
   "execution_count": 239,
   "metadata": {},
   "outputs": [
    {
     "name": "stdout",
     "output_type": "stream",
     "text": [
      "4\n",
      "3\n",
      "(5.50, 1.50)\n"
     ]
    }
   ],
   "source": [
    "# rotate2()\n",
    "rec.rotate2()\n",
    "\n",
    "print(rec.width)\n",
    "print(rec.height)\n",
    "rec.get_center()"
   ]
  },
  {
   "cell_type": "code",
   "execution_count": 271,
   "metadata": {},
   "outputs": [
    {
     "name": "stdout",
     "output_type": "stream",
     "text": [
      "3\n",
      "4\n",
      "(6.00, 6.00)\n"
     ]
    }
   ],
   "source": [
    "# copy()\n",
    "rec1 = rec.copy(6, 6)\n",
    "\n",
    "print(rec1.width)\n",
    "print(rec1.height)\n",
    "rec1.get_center()"
   ]
  },
  {
   "cell_type": "code",
   "execution_count": 246,
   "metadata": {},
   "outputs": [
    {
     "name": "stdout",
     "output_type": "stream",
     "text": [
      "3\n",
      "4\n",
      "(6.00, 6.00)\n"
     ]
    }
   ],
   "source": [
    "# move1()\n",
    "rec.move1(6, 6)\n",
    "\n",
    "print(rec.width)\n",
    "print(rec.height)\n",
    "rec.get_center()"
   ]
  },
  {
   "cell_type": "code",
   "execution_count": 250,
   "metadata": {},
   "outputs": [
    {
     "name": "stdout",
     "output_type": "stream",
     "text": [
      "3\n",
      "4\n",
      "(6.00, 6.00)\n"
     ]
    }
   ],
   "source": [
    "# move2()\n",
    "rec.move2(1, 1)\n",
    "\n",
    "print(rec.width)\n",
    "print(rec.height)\n",
    "rec.get_center()"
   ]
  },
  {
   "cell_type": "code",
   "execution_count": 252,
   "metadata": {},
   "outputs": [
    {
     "name": "stdout",
     "output_type": "stream",
     "text": [
      "6\n",
      "8\n",
      "(5.00, 5.00)\n"
     ]
    }
   ],
   "source": [
    "# resize()    \n",
    "rec.resize(2, 2)\n",
    "print(rec.width)\n",
    "print(rec.height)\n",
    "rec.get_center()"
   ]
  },
  {
   "cell_type": "code",
   "execution_count": 254,
   "metadata": {},
   "outputs": [
    {
     "name": "stdout",
     "output_type": "stream",
     "text": [
      "xmin = 3.50,  ymin = 3.00, xmax = 6.50, ymax = 7.00\n"
     ]
    }
   ],
   "source": [
    "# extent()\n",
    "rec.extent()"
   ]
  }
 ],
 "metadata": {
  "kernelspec": {
   "display_name": "Python 3",
   "language": "python",
   "name": "python3"
  },
  "language_info": {
   "codemirror_mode": {
    "name": "ipython",
    "version": 3
   },
   "file_extension": ".py",
   "mimetype": "text/x-python",
   "name": "python",
   "nbconvert_exporter": "python",
   "pygments_lexer": "ipython3",
   "version": "3.7.4"
  }
 },
 "nbformat": 4,
 "nbformat_minor": 2
}
