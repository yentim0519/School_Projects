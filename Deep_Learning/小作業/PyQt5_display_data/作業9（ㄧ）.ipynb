{
 "cells": [
  {
   "cell_type": "code",
   "execution_count": 2,
   "metadata": {},
   "outputs": [],
   "source": [
    "from PyQt5 import QtCore, QtGui, QtWidgets\n",
    "from PyQt5.QtWidgets import QTableWidgetItem\n",
    "import os\n",
    "import pandas as pd\n",
    "import numpy as np\n",
    "import time"
   ]
  },
  {
   "cell_type": "code",
   "execution_count": 3,
   "metadata": {},
   "outputs": [],
   "source": [
    "# read file\n",
    "file='190129DMCabstop.sel'\n",
    "path = os.getcwd() + '/' +file\n",
    "fin = open(path,'r+')\n",
    "\n",
    "# 計算dataframe的index數量\n",
    "count = 0\n",
    "for line in fin:\n",
    "    count = count + 1 \n",
    "    \n",
    "# create a dataframe to put the data in \n",
    "df = pd.DataFrame(None, index = np.arange(count - 2), \n",
    "                  columns = ['Name', 'E1', 'N1', 'H1', 'E2', 'N2', 'H2', 'LN', 'DATE', 'TIME', 'SEC', 'MAPID', 'SC', 'RI', 'MP', 'DP', 'SW'])"
   ]
  },
  {
   "cell_type": "code",
   "execution_count": 5,
   "metadata": {},
   "outputs": [
    {
     "name": "stdout",
     "output_type": "stream",
     "text": [
      "4.546388034025828 mins\n"
     ]
    }
   ],
   "source": [
    "# read file\n",
    "start_time = time.time()\n",
    "\n",
    "file='190129DMCabstop.sel'\n",
    "path = os.getcwd() + '/' +file\n",
    "fin = open(path,'r+')\n",
    "\n",
    "header = 2\n",
    "count = 0\n",
    "for line in fin:\n",
    "    count = count + 1       # line count\n",
    "    if count <= header:\n",
    "        continue            # part of the header, jusk skip the line # 前面有三行表頭，不用輸入直接跳過\n",
    "    s = line.strip()\n",
    "                                    # continue 會直接挑過一次迴圈    \n",
    "    df.iloc[count-3:count-2, 0:1] = str(s[0:16])\n",
    "    df.iloc[count-3:count-2, 1:2] = str(s[17:27])\n",
    "    df.iloc[count-3:count-2, 2:3] = str(s[28:39])\n",
    "    df.iloc[count-3:count-2, 3:4] = str(s[40:48])\n",
    "    df.iloc[count-3:count-2, 4:5] = str(s[49:60])\n",
    "    df.iloc[count-3:count-2, 5:6] = str(s[61:72])\n",
    "    df.iloc[count-3:count-2, 6:7] = str(s[73:81])\n",
    "    df.iloc[count-3:count-2, 7:8] = str(s[82:84])\n",
    "    df.iloc[count-3:count-2, 8:9] = str(s[85:93])\n",
    "    df.iloc[count-3:count-2, 9:10] = str(s[94:99])\n",
    "    df.iloc[count-3:count-2, 10:11] = str(s[99:106])\n",
    "    df.iloc[count-3:count-2, 11:12] = str(s[106:115])\n",
    "    df.iloc[count-3:count-2, 12:13] = str(s[115])\n",
    "    df.iloc[count-3:count-2, 13:14] = str(s[118])\n",
    "    df.iloc[count-3:count-2, 14:15] = str(s[121])\n",
    "    df.iloc[count-3:count-2, 15:16] = str(s[124:126])\n",
    "    df.iloc[count-3:count-2, 16:17] = str(s[127:130])\n",
    "\n",
    "print((time.time() - start_time)/60, \"mins\")"
   ]
  },
  {
   "cell_type": "code",
   "execution_count": null,
   "metadata": {},
   "outputs": [],
   "source": [
    "# %load 作業9\n",
    "\n",
    "# Form implementation generated from reading ui file '作業9.ui'\n",
    "#\n",
    "# Created by: PyQt5 UI code generator 5.13.2\n",
    "#\n",
    "# WARNING! All changes made in this file will be lost!\n",
    "class Ui_MainWindow(object):\n",
    "    def setupUi(self, MainWindow):\n",
    "        MainWindow.setObjectName(\"MainWindow\")\n",
    "        MainWindow.resize(800, 600)\n",
    "        self.centralwidget = QtWidgets.QWidget(MainWindow)\n",
    "        self.centralwidget.setObjectName(\"centralwidget\")\n",
    "        self.tableWidget = QtWidgets.QTableWidget(self.centralwidget)\n",
    "        self.tableWidget.setGeometry(QtCore.QRect(0, 0, 256*2, 192*2))\n",
    "        self.tableWidget.setObjectName(\"tableWidget\")\n",
    "        MainWindow.setCentralWidget(self.centralwidget)\n",
    "        self.menubar = QtWidgets.QMenuBar(MainWindow)\n",
    "        self.menubar.setGeometry(QtCore.QRect(0, 0, 800, 22))\n",
    "        self.menubar.setObjectName(\"menubar\")\n",
    "        MainWindow.setMenuBar(self.menubar)\n",
    "        self.statusbar = QtWidgets.QStatusBar(MainWindow)\n",
    "        self.statusbar.setObjectName(\"statusbar\")\n",
    "        MainWindow.setStatusBar(self.statusbar)\n",
    "\n",
    "        self.retranslateUi(MainWindow)\n",
    "        QtCore.QMetaObject.connectSlotsByName(MainWindow)\n",
    "        \n",
    "        # 決定row, column數\n",
    "        self.tableWidget.setColumnCount(df.shape[1])\n",
    "        self.tableWidget.setRowCount(df.shape[0])\n",
    "        \n",
    "        # insert data\n",
    "        for i in range(df.shape[0]):\n",
    "            for j in range(df.shape[1]):            \n",
    "                cellinfo=QTableWidgetItem(df.iloc[i:i+1, j:j+1].values[0][0])\n",
    "                cellinfo.setFlags(QtCore.Qt.ItemIsSelectable | QtCore.Qt.ItemIsEnabled) # 設定為read onlys\n",
    "                self.tableWidget.setItem(i, j, cellinfo)\n",
    "\n",
    "    def retranslateUi(self, MainWindow):\n",
    "        _translate = QtCore.QCoreApplication.translate\n",
    "        MainWindow.setWindowTitle(_translate(\"MainWindow\", \"MainWindow\"))\n",
    "\n",
    "\n",
    "if __name__ == \"__main__\":\n",
    "    import sys\n",
    "    app = QtWidgets.QApplication(sys.argv)\n",
    "    MainWindow = QtWidgets.QMainWindow()\n",
    "    ui = Ui_MainWindow()\n",
    "    ui.setupUi(MainWindow)\n",
    "    MainWindow.show()\n",
    "    sys.exit(app.exec_())\n"
   ]
  },
  {
   "cell_type": "code",
   "execution_count": null,
   "metadata": {},
   "outputs": [],
   "source": []
  }
 ],
 "metadata": {
  "kernelspec": {
   "display_name": "Python 3",
   "language": "python",
   "name": "python3"
  },
  "language_info": {
   "codemirror_mode": {
    "name": "ipython",
    "version": 3
   },
   "file_extension": ".py",
   "mimetype": "text/x-python",
   "name": "python",
   "nbconvert_exporter": "python",
   "pygments_lexer": "ipython3",
   "version": "3.7.4"
  }
 },
 "nbformat": 4,
 "nbformat_minor": 2
}
